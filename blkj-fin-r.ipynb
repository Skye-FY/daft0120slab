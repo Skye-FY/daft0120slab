# import library
import re
import numpy as np
import random

# Define global variables

deck = {
    'Spades':{
        'Ace':11,
        'Two':2,
        'Three':3,
        'Four':4,
        'Five':5,
        'Six':6,
        'Seven':7,
        'Eight':8,
        'Nine':9,
        'Ten':10,
        'Jack':10,
        'Queen':10,
        'King':10
    },
    'Hearts':{
        'Ace':[1,11],
        'Two':2,
        'Three':3,
        'Four':4,
        'Five':5,
        'Six':6,
        'Seven':7,
        'Eight':8,
        'Nine':9,
        'Ten':10,
        'Jack':10,
        'Queen':10,
        'King':10
    },
    'Clubs':{
        'Ace':[1,11],
        'Two':2,
        'Three':3,
        'Four':4,
        'Five':5,
        'Six':6,
        'Seven':7,
        'Eight':8,
        'Nine':9,
        'Ten':10,
        'Jack':10,
        'Queen':10,
        'King':10
    },
    'Diamonds':{
        'Ace':[1,11],
        'Two':2,
        'Three':3,
        'Four':4,
        'Five':5,
        'Six':6,
        'Seven':7,
        'Eight':8,
        'Nine':9,
        'Ten':10,
        'Jack':10,
        'Queen':10,
        'King':10
    },
}

suits = list(deck.keys())
cards = list(list(list(deck.values()))[0].keys())
facevalue = list(list(list(deck.values()))[0].values())
decklist = [' '.join([i,j]) for i in suits for j in cards]
global dls
dls = ['Spades Ace', 'Spades Two', 'Spades Three', 'Spades Four', 'Spades Five', 'Spades Six', 'Spades Seven', 'Spades Eight', 'Spades Nine', 'Spades Ten', 'Spades Jack', 'Spades Queen', 'Spades King', 'Hearts Ace', 'Hearts Two', 'Hearts Three', 'Hearts Four', 'Hearts Five', 'Hearts Six', 'Hearts Seven', 'Hearts Eight', 'Hearts Nine', 'Hearts Ten', 'Hearts Jack', 'Hearts Queen', 'Hearts King', 'Clubs Ace', 'Clubs Two', 'Clubs Three', 'Clubs Four', 'Clubs Five', 'Clubs Six', 'Clubs Seven', 'Clubs Eight', 'Clubs Nine', 'Clubs Ten', 'Clubs Jack', 'Clubs Queen', 'Clubs King', 'Diamonds Ace', 'Diamonds Two', 'Diamonds Three', 'Diamonds Four', 'Diamonds Five', 'Diamonds Six', 'Diamonds Seven', 'Diamonds Eight', 'Diamonds Nine', 'Diamonds Ten', 'Diamonds Jack', 'Diamonds Queen', 'Diamonds King']

#game goal
global gg
gg = 21
#check balance
global balance
balance = 0
#bet amount
global bet
bet = 0
#reward 
global rwd
rwd = 0
#loss
global loss
loss = 0
#check options
check_op = [5, 25, 50, 100, 500]
#number of games played
global gts
gts = 0
# cards at hand 
global ph
ph = []
#player total facevalue at hand
global pfv
pfv = []
#dealer's cards at hand
global dh
dh = []
#dealer total facevalue at hand
global dfv
dfv = []
#iterator
itr = lambda x: [i for i in x]
# player options
ops = ['stay','hit', 'double down','split','surrender']
#{'Spades Ace': [1, 11]}

# define functions

def stGame():
    global gts
    if gts > 5:
        return print('Warning! Life is more than gambling ---\nHave a great one!')
    else:
        return print('Welcome to Blackjack!')
    
def mkBet():
    global gts
    global balance
    global bet
    
    flg = False
    while flg == False:
        if gts == 0:
            cks = int(input("First let's exchange some checks.\nPlease exchange checks from below options.\n", check_op))
            if cks not in check_op:
                print('ERROR: Invalid check amount.')
            else:
                balance = cks
                flg1 = False
                while flg1 == False:
                    bet = int(input("Now make a bet!\nHow much you'd like to bet?"))
                    if bet > balance:
                        print('ERROR: Insufficient funds.')
                        flg2 = False
                        while flg2 == False:
                            ck = int(input("Please exchange checks from below options.\n", check_op))
                            if ck not in check_op:
                                print('ERROR: Invalid check amount.')
                            else:
                                balance += ck
                    elif bet % 5 != 0:
                        print('ERROR: Invalid bet amount.')
        else:
            flg3 = False
            while flg3 == False:
                bet = int(input("Now make a bet!\nHow much you'd like to bet?"))
                if bet > balance:
                    print('ERROR: Insufficient funds.')
                    flg4 = False
                    while flg4 == False:
                        ck = int(input("Please exchange checks from below options.\n", check_op))
                        if ck not in check_op:
                            print('ERROR: Invalid check amount.')
                        else:
                            balance += ck
                elif bet % 5 != 0:
                    print('ERROR: Invalid bet amount.')
    
    return balance
    return bet
    
def checkBal(bal, bt):
    global balance
    global bet
    balance = bal
    bet = bt
    if loss == 0: 
        if bt == 0 and rwd == 0:
            balance = bal
        elif bt == 0 and rwd != 0:
            balance = bal + bt
    elif loss != 0:
        if bt == 0:
            balance = bal
        elif bt != 0:
            balance = bal - bt
    return (balance if balance > 0 else 0)
    return print('Your current balance is %d.' % balance)

def drawCd(deck):
    global dh
    global ph
    global dls
    global decklist
    global facevalue
    global dfv
    global pfv
    fv = facevalue*4
    zipped = list(zip(decklist, fv))

    while dls != True:
        try:
            if len(dh) == 2:
                global dcd
                global dcd1
                global dcd2
                dcd = random.choice(dls)
                dls.remove(dcd)
                dh.append(dcd)
                dfv.append(i[1] for i in zipped if dcd == i[0])
            else:
        #         dealer draws card for self
                dcd1 = random.choice(dls)
                dh.append(dcd1)
                dfv.append(i[1] for i in zipped if dcd1 == i[0])
                dls.remove(dcd1)
                print(dcd1)
                dcd2 = random.choice(dls)
                dh.append(dcd2)
                dfv.append(i[1] for i in zipped if dcd2 == i[0])
                print(dcd2)
                dls.remove(dcd2)

        #     dealer draws card for player
            if len(ph) == 2:
                global pcd
                global pcd1
                global pcd2
                pcd = random.choice(dls)
                dls.remove(pcd)
                ph.append(pcd)
                pfv.append(i[1] for i in zipped if pcd == i[0])
            else:
                pcd1 = random.choice(dls)
                ph.append(pcd1)
                pfv.append(i[1] for i in zipped if pcd1 == i[0])
        #         print(pcd1)
                dls.remove(pcd1)
                pcd2 = random.choice(dls)
                ph.append(pcd2)
                pfv.append(i[1] for i in zipped if pcd2 == i[0])
        #         print(pcd2)
                dls.remove(pcd2)
        
            return print(len(dls), '\n',dh, "\n", ph,'\n','Dealer on hand---\n',dh[0],'\nPlayer on hand---\n',ph[0],'\n',ph[1])

        except IndexError:
            print('Shoe exhausted.')
            dls = decklist
            return 


def compareHands(pf, df):
    global pfv
    global gts
    global gg
    global bet
    global rwd
    global dfv
    global ph
    global dh
    global loss
    if pfv > gg:
#         lose = True
        gts += 1
        loss = bet
        return print('Oh no! You are busted! Better luck next time!')
    elif pfv < gg:
        if pfv > dfv:
#             win = True
            gts += 1
            rwd = bet
            return print('Nice game! You won %d!' % rwd)
        elif pfv < dfv:
#             lose = True
            gts += 1
            loss = bet
            return print('Nice try. Better luck next time!')
    else:        
        while pfv ==  gg:
            if len(ph) == 2 and dfv != gg:
#                 win = True
                gts += 1
#                 blkj == True
                rwd = bet * 1.5
                return print('Hooray! Blackjack! You won %d.' % rwd)
            elif dfv == gg:
                gts += 1
                return print("It's a push!")

def endGame():
    
    flag = False
    while flag == Flase:
        d1 = input('Do you want to continue or to leave Blackjack?\nC to continue\nE to leave')
        if d1 not in ['C', 'E']:
            print('ERROR: Invalid command.')
        elif d1 =='C':
            return print('Resume game.')
        else:
            return print('Thanks for playing Blackjack!\nHave a great one!')

drawCd(dls)
drawCd(dls)
drawCd(dls)
drawCd(dls)
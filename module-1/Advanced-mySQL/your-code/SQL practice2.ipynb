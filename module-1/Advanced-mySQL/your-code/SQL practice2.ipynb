{
 "cells": [
  {
   "cell_type": "markdown",
   "metadata": {},
   "source": [
    "Practice Exercises \n",
    "For practice questions 1 to 6, consider the following dataset: \n",
    " \n",
    "1.     Create a query to count the number of students that took Supply Chain \n",
    "Management. Name the column “Student_Count.” \n",
    "\n"
   ]
  },
  {
   "cell_type": "code",
   "execution_count": null,
   "metadata": {},
   "outputs": [],
   "source": []
  },
  {
   "cell_type": "markdown",
   "metadata": {},
   "source": [
    "2.     Create a query to handle the following desired query result: \n"
   ]
  },
  {
   "cell_type": "markdown",
   "metadata": {},
   "source": [
    " \n",
    "3. Create a query for the following report: \n"
   ]
  },
  {
   "cell_type": "markdown",
   "metadata": {},
   "source": [
    " \n",
    "4.     The report in question 3 seems to lack the actual description of the faculty rank. Create a table named “Rank_Description” with the attributes: \n",
    "·       Fac_Rank_C: A four-character attribute with default value INST and cannot be NULL. Additionally, this is the primary key of the table. \n",
    "·       Fac_Rank_M: A variable character attribute that describes the rank.\n",
    "• Min_Sal_Grade: A numeric 1-digit number that can take values from 1 to 9, \n",
    "indicating the minimum salary grade of the rank. \n"
   ]
  },
  {
   "cell_type": "markdown",
   "metadata": {},
   "source": [
    "5.     Write an SQL command to populate the table in question 4 with the following data: \n",
    " \n"
   ]
  },
  {
   "cell_type": "markdown",
   "metadata": {},
   "source": [
    "6. Write a nested query without join statements for the following report: \n",
    " \n",
    " \n",
    "For questions 7 to 12, consider the following tables: \n",
    " \n"
   ]
  },
  {
   "cell_type": "markdown",
   "metadata": {},
   "source": [
    "7.     The PO_Pay_Terms will be used in different tables; hence, a domain could be use- ful to handle this in the event of future changes. This attribute must contain a maximum of 10 characters; the default value should be “NET30,” which corre- sponds to net 30 days; and should not be NULL. Write an SQL code to create a domain named “Pay_Terms” subject to the aforementioned specifications. \n"
   ]
  },
  {
   "cell_type": "markdown",
   "metadata": {},
   "source": [
    "8.     Create a “Suppliers” table with the following attributes: \n",
    "·       Supplier_N: A four integer–digit primary key attribute used to uniquely iden- tify a supplier and should not be NULL. \n",
    "·       Supplier_M: A string that denotes the name of a supplier with a maximum of 255 characters. \n",
    "·       Supplier_Tier: A single-digit number between 1 and 5 indicating the supplier’s tier. \n",
    "·       Default_Pay_Terms: An attribute that follows the domain “Pay_Terms” defined \n",
    "in question 6. \n"
   ]
  },
  {
   "cell_type": "markdown",
   "metadata": {},
   "source": [
    "9.     Populate the table generated in question 8 with the following information: \n",
    " \n",
    " \n"
   ]
  },
  {
   "cell_type": "markdown",
   "metadata": {},
   "source": [
    "10. Create a query to for this report: \n",
    " \n",
    " \n",
    " \n"
   ]
  },
  {
   "cell_type": "markdown",
   "metadata": {},
   "source": [
    "11. A round of supplier reviews has lapsed, and the Beltway Coffee supplier’s master data need to be updated (see bold font). \n",
    " \n",
    " \n",
    "Create a single query to update the record. \n"
   ]
  },
  {
   "cell_type": "markdown",
   "metadata": {},
   "source": [
    "12. A new attribute is needed for the Purchase_Orders relation to denote whether the purchase order instance is paid. Write the corresponding SQL code to add the fol- lowing attributes: \n",
    "• Pay_Status: A three-character string indicating the status of the purchase order payment, with the default value “NYP” indicating not yet paid. \n"
   ]
  }
 ],
 "metadata": {
  "kernelspec": {
   "display_name": "Python 3",
   "language": "python",
   "name": "python3"
  },
  "language_info": {
   "codemirror_mode": {
    "name": "ipython",
    "version": 3
   },
   "file_extension": ".py",
   "mimetype": "text/x-python",
   "name": "python",
   "nbconvert_exporter": "python",
   "pygments_lexer": "ipython3",
   "version": "3.8.1"
  }
 },
 "nbformat": 4,
 "nbformat_minor": 4
}

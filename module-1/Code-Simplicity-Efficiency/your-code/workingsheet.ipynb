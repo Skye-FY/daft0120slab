{
 "cells": [
  {
   "cell_type": "code",
   "execution_count": 3,
   "metadata": {},
   "outputs": [
    {
     "name": "stdout",
     "output_type": "stream",
     "text": [
      "What is the maximal length of the side of a right triangle? Enter a number: 15\n",
      "The longest side possible given number 15 is 15.\n"
     ]
    }
   ],
   "source": [
    "def compute_side(num):\n",
    "    max_combo = max([(a,b,c) for c in range(5, num+1) for b in range(4, num+1) for a in range(3, num+1) if (a**2 + b**2 == c**2)])\n",
    "    \n",
    "    return max_combo[2]\n",
    "\n",
    "if __name__ in '__main__':\n",
    "    x = int(input('What is the maximal length of the side of a right triangle? Enter a number: '))\n",
    "    compute_side(x)\n",
    "    print('The longest side possible given number %d is %d.' % (x, compute_side(x)))"
   ]
  },
  {
   "cell_type": "code",
   "execution_count": null,
   "metadata": {},
   "outputs": [],
   "source": []
  }
 ],
 "metadata": {
  "kernelspec": {
   "display_name": "Python 3",
   "language": "python",
   "name": "python3"
  },
  "language_info": {
   "codemirror_mode": {
    "name": "ipython",
    "version": 3
   },
   "file_extension": ".py",
   "mimetype": "text/x-python",
   "name": "python",
   "nbconvert_exporter": "python",
   "pygments_lexer": "ipython3",
   "version": "3.8.1"
  }
 },
 "nbformat": 4,
 "nbformat_minor": 4
}

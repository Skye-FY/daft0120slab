def welcome():
    numpool = {'One':1,
               'Two':2,
               'Three':3,
               'Four':4,
               'Five':5,
               'one':1,
               'two':2,
               'three':3,
               'four':4,
               'five':5,
    }
    flaga = False:
        while flaga == False:
            a = print(input('Welcome to this calculator!\nIt can add and subtract whole numbers from zero to five.\nPlease choose your first number (zero to five):\n'))
            if a not in numpool.items():
                print('Invalid input. Please re-enter your choice.')
            else:
                flaga = True
    flagb = False:
        while flagb == False:
            b = input('What do you want to do?\nPlease enter "+" for plus and "-" for minus.\n')
            if b not in ['+', '-']:
                print('Invalid input. Please re-enter your choice.')
            else:
                flagb = True
    flagc = False:
        while flagc == False:
            c = print(input('Please choose your second number (zero to five):\n'))
            if c not in numpool.items():
                print('Invalid input. Please re-enter your choice.')
            else:
                flagc = True
    return a, b, c
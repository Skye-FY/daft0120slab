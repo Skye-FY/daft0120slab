{
 "cells": [
  {
   "cell_type": "markdown",
   "metadata": {},
   "source": [
    "# Inferential statistics\n",
    "## Part III - Inferential Analysis\n",
    "\n",
    "We're now going to look for answers to the ongoing basketball discussions between you and your family. The main ones we want to reasearch are the following:\n",
    "\n",
    "- Your grandmother says that your sister couldn't play in a professional basketball league (not only the WNBA, but ANY professional basketball league) because she's too skinny and lacks muscle.\n",
    "- Your sister says that most female professional players fail their free throws.\n",
    "- Your brother-in-law heard on the TV that the average assists among NBA (male) and WNBA (female) players is 52 for the 2016-2017 season. He is convinced this average would be higher if we only considered the players from the WNBA.\n",
    "\n",
    "Let's investigate these claims and see if we can find proof to refute or support them.\n",
    "\n",
    "### Libraries\n",
    "Import the necessary libraries first."
   ]
  },
  {
   "cell_type": "code",
   "execution_count": 1,
   "metadata": {},
   "outputs": [],
   "source": [
    "# Libraries\n",
    "import math\n",
    "import pandas as pd\n",
    "import numpy as np\n",
    "from scipy import stats\n",
    "import matplotlib.pyplot as plt\n",
    "from scipy.stats import ttest_1samp\n",
    "pd.set_option('max_columns', 50)"
   ]
  },
  {
   "cell_type": "markdown",
   "metadata": {},
   "source": [
    "### Load the dataset\n",
    "\n",
    "Load the cleaned dataset."
   ]
  },
  {
   "cell_type": "code",
   "execution_count": 2,
   "metadata": {},
   "outputs": [
    {
     "data": {
      "text/html": [
       "<div>\n",
       "<style scoped>\n",
       "    .dataframe tbody tr th:only-of-type {\n",
       "        vertical-align: middle;\n",
       "    }\n",
       "\n",
       "    .dataframe tbody tr th {\n",
       "        vertical-align: top;\n",
       "    }\n",
       "\n",
       "    .dataframe thead th {\n",
       "        text-align: right;\n",
       "    }\n",
       "</style>\n",
       "<table border=\"1\" class=\"dataframe\">\n",
       "  <thead>\n",
       "    <tr style=\"text-align: right;\">\n",
       "      <th></th>\n",
       "      <th>Unnamed: 0</th>\n",
       "      <th>Name</th>\n",
       "      <th>Team</th>\n",
       "      <th>Pos</th>\n",
       "      <th>Height</th>\n",
       "      <th>Weight</th>\n",
       "      <th>BMI</th>\n",
       "      <th>Birth_Place</th>\n",
       "      <th>Birthdate</th>\n",
       "      <th>Age</th>\n",
       "      <th>College</th>\n",
       "      <th>Experience</th>\n",
       "      <th>Games Played</th>\n",
       "      <th>MIN</th>\n",
       "      <th>FGM</th>\n",
       "      <th>FGA</th>\n",
       "      <th>FG%</th>\n",
       "      <th>3PM</th>\n",
       "      <th>3PA</th>\n",
       "      <th>3P%</th>\n",
       "      <th>FTM</th>\n",
       "      <th>FTA</th>\n",
       "      <th>FT%</th>\n",
       "      <th>OREB</th>\n",
       "      <th>DREB</th>\n",
       "      <th>REB</th>\n",
       "      <th>AST</th>\n",
       "      <th>STL</th>\n",
       "      <th>BLK</th>\n",
       "      <th>TO</th>\n",
       "      <th>PTS</th>\n",
       "      <th>DD2</th>\n",
       "      <th>TD3</th>\n",
       "    </tr>\n",
       "  </thead>\n",
       "  <tbody>\n",
       "    <tr>\n",
       "      <th>0</th>\n",
       "      <td>0</td>\n",
       "      <td>Aerial Powers</td>\n",
       "      <td>DAL</td>\n",
       "      <td>F</td>\n",
       "      <td>183</td>\n",
       "      <td>71.0</td>\n",
       "      <td>21.200991</td>\n",
       "      <td>US</td>\n",
       "      <td>January 17, 1994</td>\n",
       "      <td>23</td>\n",
       "      <td>Michigan State</td>\n",
       "      <td>2</td>\n",
       "      <td>8</td>\n",
       "      <td>173</td>\n",
       "      <td>30</td>\n",
       "      <td>85</td>\n",
       "      <td>35.3</td>\n",
       "      <td>12</td>\n",
       "      <td>32</td>\n",
       "      <td>37.5</td>\n",
       "      <td>21</td>\n",
       "      <td>26</td>\n",
       "      <td>80.8</td>\n",
       "      <td>6</td>\n",
       "      <td>22</td>\n",
       "      <td>28</td>\n",
       "      <td>12</td>\n",
       "      <td>3</td>\n",
       "      <td>6</td>\n",
       "      <td>12</td>\n",
       "      <td>93</td>\n",
       "      <td>0</td>\n",
       "      <td>0</td>\n",
       "    </tr>\n",
       "    <tr>\n",
       "      <th>1</th>\n",
       "      <td>1</td>\n",
       "      <td>Alana Beard</td>\n",
       "      <td>LA</td>\n",
       "      <td>G/F</td>\n",
       "      <td>185</td>\n",
       "      <td>73.0</td>\n",
       "      <td>21.329438</td>\n",
       "      <td>US</td>\n",
       "      <td>May 14, 1982</td>\n",
       "      <td>35</td>\n",
       "      <td>Duke</td>\n",
       "      <td>12</td>\n",
       "      <td>30</td>\n",
       "      <td>947</td>\n",
       "      <td>90</td>\n",
       "      <td>177</td>\n",
       "      <td>50.8</td>\n",
       "      <td>5</td>\n",
       "      <td>18</td>\n",
       "      <td>27.8</td>\n",
       "      <td>32</td>\n",
       "      <td>41</td>\n",
       "      <td>78.0</td>\n",
       "      <td>19</td>\n",
       "      <td>82</td>\n",
       "      <td>101</td>\n",
       "      <td>72</td>\n",
       "      <td>63</td>\n",
       "      <td>13</td>\n",
       "      <td>40</td>\n",
       "      <td>217</td>\n",
       "      <td>0</td>\n",
       "      <td>0</td>\n",
       "    </tr>\n",
       "    <tr>\n",
       "      <th>2</th>\n",
       "      <td>2</td>\n",
       "      <td>Alex Bentley</td>\n",
       "      <td>CON</td>\n",
       "      <td>G</td>\n",
       "      <td>170</td>\n",
       "      <td>69.0</td>\n",
       "      <td>23.875433</td>\n",
       "      <td>US</td>\n",
       "      <td>October 27, 1990</td>\n",
       "      <td>26</td>\n",
       "      <td>Penn State</td>\n",
       "      <td>4</td>\n",
       "      <td>26</td>\n",
       "      <td>617</td>\n",
       "      <td>82</td>\n",
       "      <td>218</td>\n",
       "      <td>37.6</td>\n",
       "      <td>19</td>\n",
       "      <td>64</td>\n",
       "      <td>29.7</td>\n",
       "      <td>35</td>\n",
       "      <td>42</td>\n",
       "      <td>83.3</td>\n",
       "      <td>4</td>\n",
       "      <td>36</td>\n",
       "      <td>40</td>\n",
       "      <td>78</td>\n",
       "      <td>22</td>\n",
       "      <td>3</td>\n",
       "      <td>24</td>\n",
       "      <td>218</td>\n",
       "      <td>0</td>\n",
       "      <td>0</td>\n",
       "    </tr>\n",
       "    <tr>\n",
       "      <th>3</th>\n",
       "      <td>3</td>\n",
       "      <td>Alex Montgomery</td>\n",
       "      <td>SAN</td>\n",
       "      <td>G/F</td>\n",
       "      <td>185</td>\n",
       "      <td>84.0</td>\n",
       "      <td>24.543462</td>\n",
       "      <td>US</td>\n",
       "      <td>December 11, 1988</td>\n",
       "      <td>28</td>\n",
       "      <td>Georgia Tech</td>\n",
       "      <td>6</td>\n",
       "      <td>31</td>\n",
       "      <td>721</td>\n",
       "      <td>75</td>\n",
       "      <td>195</td>\n",
       "      <td>38.5</td>\n",
       "      <td>21</td>\n",
       "      <td>68</td>\n",
       "      <td>30.9</td>\n",
       "      <td>17</td>\n",
       "      <td>21</td>\n",
       "      <td>81.0</td>\n",
       "      <td>35</td>\n",
       "      <td>134</td>\n",
       "      <td>169</td>\n",
       "      <td>65</td>\n",
       "      <td>20</td>\n",
       "      <td>10</td>\n",
       "      <td>38</td>\n",
       "      <td>188</td>\n",
       "      <td>2</td>\n",
       "      <td>0</td>\n",
       "    </tr>\n",
       "    <tr>\n",
       "      <th>4</th>\n",
       "      <td>4</td>\n",
       "      <td>Alexis Jones</td>\n",
       "      <td>MIN</td>\n",
       "      <td>G</td>\n",
       "      <td>175</td>\n",
       "      <td>78.0</td>\n",
       "      <td>25.469388</td>\n",
       "      <td>US</td>\n",
       "      <td>August 5, 1994</td>\n",
       "      <td>23</td>\n",
       "      <td>Baylor</td>\n",
       "      <td>R</td>\n",
       "      <td>24</td>\n",
       "      <td>137</td>\n",
       "      <td>16</td>\n",
       "      <td>50</td>\n",
       "      <td>32.0</td>\n",
       "      <td>7</td>\n",
       "      <td>20</td>\n",
       "      <td>35.0</td>\n",
       "      <td>11</td>\n",
       "      <td>12</td>\n",
       "      <td>91.7</td>\n",
       "      <td>3</td>\n",
       "      <td>9</td>\n",
       "      <td>12</td>\n",
       "      <td>12</td>\n",
       "      <td>7</td>\n",
       "      <td>0</td>\n",
       "      <td>14</td>\n",
       "      <td>50</td>\n",
       "      <td>0</td>\n",
       "      <td>0</td>\n",
       "    </tr>\n",
       "  </tbody>\n",
       "</table>\n",
       "</div>"
      ],
      "text/plain": [
       "   Unnamed: 0             Name Team  Pos  Height  Weight        BMI  \\\n",
       "0           0    Aerial Powers  DAL    F     183    71.0  21.200991   \n",
       "1           1      Alana Beard   LA  G/F     185    73.0  21.329438   \n",
       "2           2     Alex Bentley  CON    G     170    69.0  23.875433   \n",
       "3           3  Alex Montgomery  SAN  G/F     185    84.0  24.543462   \n",
       "4           4     Alexis Jones  MIN    G     175    78.0  25.469388   \n",
       "\n",
       "  Birth_Place          Birthdate  Age         College Experience  \\\n",
       "0          US   January 17, 1994   23  Michigan State          2   \n",
       "1          US       May 14, 1982   35            Duke         12   \n",
       "2          US   October 27, 1990   26      Penn State          4   \n",
       "3          US  December 11, 1988   28    Georgia Tech          6   \n",
       "4          US     August 5, 1994   23          Baylor          R   \n",
       "\n",
       "   Games Played  MIN  FGM  FGA   FG%  3PM  3PA   3P%  FTM  FTA   FT%  OREB  \\\n",
       "0             8  173   30   85  35.3   12   32  37.5   21   26  80.8     6   \n",
       "1            30  947   90  177  50.8    5   18  27.8   32   41  78.0    19   \n",
       "2            26  617   82  218  37.6   19   64  29.7   35   42  83.3     4   \n",
       "3            31  721   75  195  38.5   21   68  30.9   17   21  81.0    35   \n",
       "4            24  137   16   50  32.0    7   20  35.0   11   12  91.7     3   \n",
       "\n",
       "   DREB  REB  AST  STL  BLK  TO  PTS  DD2  TD3  \n",
       "0    22   28   12    3    6  12   93    0    0  \n",
       "1    82  101   72   63   13  40  217    0    0  \n",
       "2    36   40   78   22    3  24  218    0    0  \n",
       "3   134  169   65   20   10  38  188    2    0  \n",
       "4     9   12   12    7    0  14   50    0    0  "
      ]
     },
     "execution_count": 2,
     "metadata": {},
     "output_type": "execute_result"
    }
   ],
   "source": [
    "#your code here\n",
    "w = pd.read_csv('../data/wnba_cln.csv')\n",
    "w.head()"
   ]
  },
  {
   "cell_type": "markdown",
   "metadata": {},
   "source": [
    "# Question 1: Can my sister play in a professional female basketball league?\n",
    "\n",
    "As we said, you grandmother is convinced that your sister couldn't play in a professional league because of her physique and weight (her weight is 67kg). \n",
    "\n",
    "To find an actual answer to the question we first need to know what's the average weight of a professional female basketball player. The data we have only refers to the WNBA league and not to every female professional basketball league in the world, therefore we have no way of actually calculating it.\n",
    "\n",
    "Still, given that we do have *some* data we can **infer** it using a sample of players like the one we have. \n",
    "\n",
    "**How would you do it? Try and think about the requirements that your sample must satisfy in order to be used to infer the average weight. Do you feel it actually fulfills those requirements? Do you need to make any assumptions? We could calculate a confidence interval to do the inference, but do you know any other ways?**"
   ]
  },
  {
   "cell_type": "code",
   "execution_count": 8,
   "metadata": {},
   "outputs": [
    {
     "data": {
      "text/plain": [
       "array([ 79.52166526,  91.85037279,  79.95092737,  79.10723825,\n",
       "        83.48497778,  90.85686881,  64.43831509,  79.30475096,\n",
       "        74.85810502,  86.41407402,  65.06517508,  89.00097298,\n",
       "        78.36663079,  67.54470603,  91.42528145,  55.6626756 ,\n",
       "        73.36318621,  68.34977725,  98.28347141,  84.52766742,\n",
       "        60.93421017,  72.39603113,  85.66500759,  81.21300738,\n",
       "        67.4767673 ,  70.59446059,  90.38533872,  65.92414545,\n",
       "        86.20478297,  90.92667726,  90.52699054,  75.46060432,\n",
       "        75.22961385,  65.28895659,  75.91495965,  80.32006914,\n",
       "        83.04003235,  74.7895974 ,  86.7173487 , 103.05237156,\n",
       "       100.69996672,  79.08094685,  91.68056125,  54.94999868,\n",
       "        78.5546061 ,  83.54873877,  91.01163643,  80.67214786,\n",
       "        56.68024282,  84.15820432,  52.24285689,  77.06880157,\n",
       "        72.76163401,  78.96016923,  71.0419789 ,  71.23400247,\n",
       "        91.95465838,  76.68700926,  73.89295102,  85.95480899,\n",
       "        88.325077  ,  59.9169477 ,  83.34169324,  80.38037534,\n",
       "        74.98199148,  74.0446683 ,  69.43784429,  97.61984242,\n",
       "        45.28103413,  67.17471192,  78.45909131,  60.89635398,\n",
       "        95.54921268,  72.224663  ,  77.45828691,  85.85109754,\n",
       "        63.260193  ,  85.78701211,  71.36117637,  90.19324349,\n",
       "        84.79850811,  80.38018741,  81.69491392,  91.84223653,\n",
       "        75.00378161,  80.54002079,  77.49797079,  74.62416345,\n",
       "        68.148593  ,  73.83327944,  81.78390994,  74.34677203,\n",
       "        79.72841514,  71.67995205,  64.22423314,  66.45216346,\n",
       "        89.81199537,  84.79883903,  94.75525291,  70.94414231,\n",
       "        95.07614193,  73.77961927,  86.29481241,  83.06252541,\n",
       "        81.35498871,  74.0554076 ,  68.34854144,  80.85460297,\n",
       "        81.57787121,  79.7230252 ,  79.19546543,  76.02134168,\n",
       "        86.65446843,  73.99027122,  77.68177194,  66.9258615 ,\n",
       "        61.07446569,  80.600211  ,  86.08076879,  93.12703237,\n",
       "        81.10406203,  69.8621191 ,  59.13312055,  84.54026063,\n",
       "        72.08884471,  76.75102014,  98.17166964,  74.39192548,\n",
       "        69.23720539,  72.05113443,  65.10378251,  82.97230675,\n",
       "        87.89270197,  69.58758234,  82.70127154,  73.59035221,\n",
       "        82.4537504 ,  71.98099708,  80.72619223,  78.55497889,\n",
       "       104.63147025,  74.98519453,  84.89147499,  78.28026532,\n",
       "        90.45525582,  72.08080725,  82.08696088,  82.74593908,\n",
       "        86.69041698,  89.89813744,  86.04429165,  78.10324859,\n",
       "       101.73366578,  67.70713575,  70.26888978,  73.83900282,\n",
       "       100.37975496,  73.32897836,  72.69300699,  78.95164106,\n",
       "        79.88072085,  88.20163972,  79.99167784,  70.00212494,\n",
       "        82.45651613,  91.37832804,  72.62079789,  82.56368109,\n",
       "        64.78139429,  74.6929931 ,  77.35938358,  79.53659926,\n",
       "        71.3431783 ,  80.95869111,  78.21743098,  88.87942331,\n",
       "        80.35451048,  88.18859048,  69.272163  ,  90.93247499,\n",
       "        60.72117482,  72.62080454,  78.0511823 ,  85.43049986,\n",
       "        80.66810487,  72.74697472,  58.33032928,  70.69957633,\n",
       "        69.61936011,  73.20556061,  80.73552299,  83.77055282,\n",
       "        79.12872414,  83.22805321,  87.49569154,  83.91114616,\n",
       "        79.25109604,  95.78709013,  78.32464496,  93.29632761,\n",
       "        79.62077346,  77.24868982,  72.77308312,  77.77016301,\n",
       "        74.27005174,  86.17912447,  62.28837088,  64.52562079,\n",
       "        70.90056678,  85.32193921,  57.52361085,  76.9580294 ,\n",
       "        86.69024825,  81.94800036,  74.35743864,  69.33350653,\n",
       "        70.2665235 ,  85.86133186,  64.09761092,  79.21958913,\n",
       "        82.22619461,  95.45339398,  84.01595357,  92.025105  ,\n",
       "        95.96189536,  84.79639153,  95.36844272,  93.44753336,\n",
       "        76.1149433 ,  80.19027697,  75.4394412 ,  77.2227366 ,\n",
       "        87.65481215,  80.56515516,  96.36011695, 100.94407203,\n",
       "        85.15947676,  87.21746343, 103.8965053 ,  61.34100204,\n",
       "        84.19933153,  95.87402144,  62.27638438,  65.07645985,\n",
       "        84.86029392,  90.03946102,  77.98774627,  80.5573038 ,\n",
       "        80.83364207,  77.52014513,  88.03093919,  79.80464862,\n",
       "        75.67170314,  81.78656534,  84.83504776,  90.52239183,\n",
       "        72.79319282,  83.13615104,  50.27359156,  92.64883882,\n",
       "        71.93858034,  87.97435764,  75.23407286,  75.87532325,\n",
       "        77.46536652,  57.12856504,  79.5343599 ,  73.10376154,\n",
       "        63.11121384,  87.70623822,  77.35138881,  85.79768203,\n",
       "        99.33510417,  93.64399099,  58.65842397,  81.58092684,\n",
       "        75.42439572,  89.4263697 ,  73.73341809,  76.27125922,\n",
       "        74.142544  ,  88.39243741,  70.94538263,  85.14740223,\n",
       "       103.37344067,  95.4623736 ,  83.43832264,  94.17748964,\n",
       "        79.48130857,  95.91011907,  76.33176483,  82.90347715,\n",
       "        80.19466889,  59.32912414,  68.58023022,  71.46511817,\n",
       "       106.89584906,  76.21300319,  70.21821744,  70.26434502,\n",
       "        82.75788882,  75.32940512,  83.14644722,  66.48877679,\n",
       "        87.72730624,  96.82131448,  87.83502037,  70.18846249,\n",
       "        67.97773361,  62.85973678,  78.26670178,  65.48167613,\n",
       "        89.10770333,  81.72411035,  76.37653691,  61.10054496,\n",
       "        59.13304542, 103.18233883,  82.41111841,  71.36371305,\n",
       "        57.99921288,  80.8892129 ,  81.93575545,  74.77460446,\n",
       "        96.65393074,  87.52151044,  69.04819768,  59.28622158,\n",
       "        60.07006743,  90.70014277,  75.80761003,  69.66767741,\n",
       "        91.9548628 ,  88.41261246,  83.6796793 ,  64.3767831 ,\n",
       "        63.0636774 ,  66.94407546,  80.65427067,  76.91563219,\n",
       "        90.75619093,  84.47650685,  85.30220871,  92.66992739,\n",
       "        79.11490728,  96.66035211,  80.63408173,  74.41861766,\n",
       "        68.22775156,  76.56572296,  72.07750627,  88.20047363,\n",
       "        77.06219168,  83.1270734 ,  83.96227503,  83.28611047,\n",
       "        74.33052664,  91.04838719,  83.94439315,  76.57114505,\n",
       "        71.35422347,  61.53176358,  81.57307808,  87.28812333,\n",
       "        79.77970578,  85.58072759,  60.30126591,  63.04528694,\n",
       "        52.22709405,  82.30900582,  67.15045585,  94.81608248,\n",
       "        77.78380695,  88.13329782,  71.57138768,  65.2156919 ,\n",
       "        59.72901494,  74.13958789,  72.81112792,  99.2156172 ,\n",
       "        81.35838624,  66.94122963,  77.47412778,  68.09973198,\n",
       "        62.75730919,  88.70448494,  80.69865234,  84.83941789,\n",
       "        75.8452803 ,  72.15528654,  83.92001932,  73.42293416,\n",
       "        84.22711921,  82.95118579,  69.02935247,  72.38684202,\n",
       "        89.80634567,  81.24354384,  78.32978096,  79.99556639,\n",
       "        71.93965501,  78.9942005 ,  69.36820195,  73.98794283,\n",
       "        55.87492313,  71.90022945,  75.38015683,  82.98316427,\n",
       "        99.77147337,  85.50866527,  74.8473729 ,  68.93938405,\n",
       "        52.40888502,  82.9534143 ,  69.98139634,  77.91345935,\n",
       "        81.31751171,  78.9904751 ,  82.90170772,  73.86800927,\n",
       "        66.28568373,  80.01944391,  82.64038586,  87.52243351,\n",
       "        88.70986779,  92.70502505,  76.23650681,  75.5311995 ,\n",
       "        85.34724812,  92.72960433,  84.82762341,  64.97715001,\n",
       "        91.86041876,  79.33085606,  47.55087833,  75.49770781,\n",
       "        83.53065642,  75.30804695,  59.97707471,  75.930725  ,\n",
       "        71.07091323,  61.45020862,  95.46027473,  85.16207618,\n",
       "        84.94231296, 103.88178987,  69.61467217,  69.20200845,\n",
       "        93.70002455,  92.87556766,  80.51936001,  79.73557214,\n",
       "        99.45937705,  77.75531168,  92.7733954 , 100.27691232,\n",
       "        94.39356666,  84.0224816 ,  75.66751431,  85.02360077,\n",
       "        69.58258607,  87.31183951,  88.27684444,  72.11187887,\n",
       "        77.81753668,  62.97703732,  77.32678057,  79.4433268 ,\n",
       "        85.1136557 ,  88.66072801,  77.19039616,  79.57789291,\n",
       "        67.32831305,  65.68588156,  73.36071389, 108.45966285,\n",
       "        85.45335403, 102.000043  ,  69.40883619,  75.718992  ,\n",
       "       101.16948565,  72.1874087 ,  63.17580844,  94.49224202,\n",
       "        73.64037627,  70.1436856 ,  80.12270253,  78.63329187,\n",
       "        93.63640803,  77.70229007,  65.47425805,  81.66981947,\n",
       "        89.93055571,  84.96886709,  49.40391275,  88.47301165,\n",
       "        80.51845729,  68.65931208,  65.81495037,  63.44349698,\n",
       "        82.31136755,  52.17573602,  89.50954972,  78.69151648,\n",
       "        89.53788632,  79.86744757,  63.40195447,  77.86428684,\n",
       "       100.86667636,  83.44524997,  84.00822299,  80.66020253,\n",
       "        88.9434539 ,  86.25189856,  66.30680643,  83.98712846,\n",
       "        76.00795799,  81.96282941,  59.24724773, 101.19643743,\n",
       "        94.49577018,  80.20451297,  91.89311745,  64.93113236,\n",
       "        74.3081298 ,  75.6429073 ,  69.86071135,  79.71680997,\n",
       "        75.04602971,  93.40594176,  61.16140095,  79.55134622,\n",
       "        66.44718163,  79.36400456,  68.43256142, 101.00582477,\n",
       "        73.47299968,  77.54163208,  83.49396655,  67.2312349 ,\n",
       "        56.46772326,  75.75165686,  91.06085501,  97.9655497 ,\n",
       "        76.42681607,  70.35779446,  68.43006202,  73.23666924,\n",
       "        66.93589537,  83.45491927,  90.35141527,  66.13253832,\n",
       "        82.56477621,  87.99729007,  85.32346777,  82.97942941,\n",
       "        69.88003195,  71.00731676,  72.15019834,  92.80893233,\n",
       "        75.25887645,  76.42125165,  79.7539992 ,  81.06049194,\n",
       "        94.69932259,  93.81884885,  65.47274509,  80.38383104,\n",
       "        79.16450519,  81.33117011,  66.992204  ,  71.79125669,\n",
       "        74.46120123,  71.39389283,  95.67423865,  80.84273392,\n",
       "        72.05708846,  87.45516774,  91.1816871 ,  83.74387296,\n",
       "        60.61389199,  75.41022597,  58.34955348,  53.4211632 ,\n",
       "        86.46081755,  76.47713659,  77.99481757,  59.96338667,\n",
       "        75.37665051,  82.97997263,  55.12102316,  81.2446259 ,\n",
       "        76.58918646,  69.64958538,  75.81580974,  96.2222424 ,\n",
       "        73.68123052,  76.54721678,  57.73195542,  89.03536821,\n",
       "        85.65019808,  62.02322267,  66.3903512 ,  92.6548681 ,\n",
       "        68.63296856,  70.23433286,  69.27795345,  81.45873949,\n",
       "        76.13579037,  87.06222579,  75.33957303,  81.20745294,\n",
       "        75.61868756,  73.80942763,  86.20647746,  73.27899821,\n",
       "        74.19289571,  72.01697509,  67.38946344,  73.49462104,\n",
       "        76.60128059,  67.43792474,  78.43446779,  69.36857435,\n",
       "        65.42053944,  74.5745093 ,  56.92796784,  83.34418774,\n",
       "        79.18404128,  86.22525443,  81.84648771,  67.28785044,\n",
       "        85.67748567,  81.08527216,  72.52696174,  72.71915528,\n",
       "        80.59674563,  82.84609044,  80.07647947,  77.19245816,\n",
       "        81.09562455,  80.86489   ,  61.85392243,  81.07170872,\n",
       "        73.87929985,  68.19626407,  70.94562983,  73.91898121,\n",
       "        86.62879332,  79.92595494,  82.31452088,  87.18174032,\n",
       "        95.290203  ,  75.78756482,  95.9958824 ,  66.4219416 ,\n",
       "        88.43684976,  61.430553  ,  64.73746629,  53.30320945,\n",
       "        64.66398822,  76.77033741,  95.94705233,  59.68725941,\n",
       "        89.8769719 , 100.68873207,  72.47539189,  87.35913994,\n",
       "        75.22061639,  78.01241119,  79.82021551,  79.0057366 ,\n",
       "        88.59666623,  80.30492998,  80.61700056,  78.53065962,\n",
       "        74.14527692,  78.13797191,  79.41878826,  80.71790644,\n",
       "        66.98209338,  84.65426162,  67.65169105,  85.22066426,\n",
       "        99.05471123,  88.37072733,  85.3446318 ,  58.06997873,\n",
       "        66.32155243,  82.29874376,  82.67090615,  73.44531274,\n",
       "        78.40527182,  90.10184664,  81.5541001 ,  80.36537627,\n",
       "        89.24211694,  79.02091595,  84.64231157,  71.22844536,\n",
       "        55.20146604,  86.45935875,  78.39946063,  90.91786667,\n",
       "        82.06634512,  87.23104272,  76.41868088,  74.8899302 ,\n",
       "        93.47750443,  64.10427153,  85.66905927,  72.87704891,\n",
       "        82.7447311 ,  91.43583052,  88.16125656,  58.78332214,\n",
       "        77.36441856,  69.5759082 ,  65.65863858,  74.80372917,\n",
       "        89.55428543,  67.99706539,  78.6529319 ,  84.39291273,\n",
       "        78.50068748,  91.47758304,  80.96582648,  84.55329698,\n",
       "        64.99876081,  70.75402258,  78.08878495,  67.65913454,\n",
       "        87.23305034,  73.93663138, 107.41637622,  84.9130054 ,\n",
       "        68.803592  ,  79.02485694, 101.22276311,  89.55447858,\n",
       "        73.29311343,  81.99938832,  67.39927158,  88.51348068,\n",
       "        69.36293283,  69.77507151,  75.30197778,  80.1451722 ,\n",
       "        73.70478139,  72.64101126,  75.67234749,  86.50640693,\n",
       "        77.96185305,  69.20922344,  85.51789967,  83.14503572,\n",
       "       104.77401377,  75.48731131,  66.34847669,  72.02449092,\n",
       "       100.66366592,  88.44126769,  69.98669222,  89.43123532,\n",
       "        81.32222792,  80.55622507,  64.38896606, 107.20322799,\n",
       "        60.81468423,  78.02353162,  70.36430548,  94.497871  ,\n",
       "        77.77432181,  58.23211622,  67.43362183,  63.38688738,\n",
       "        72.58882975,  86.06267666,  82.15359784,  75.42811351,\n",
       "        85.35438491,  81.74963874,  89.9276483 ,  73.90307279,\n",
       "        82.34880927,  65.43868553,  66.26472109,  99.2028429 ,\n",
       "        85.74503416,  91.47489634,  76.34271835,  72.60889106,\n",
       "        96.40247075,  84.35576825,  79.8811645 ,  78.02578687,\n",
       "        87.25825653, 110.84640539,  61.50601744,  75.99496512,\n",
       "        64.79992847, 101.01981052,  80.08811499,  66.76156376,\n",
       "        82.68980352,  69.64916571,  78.84707547,  91.17633138,\n",
       "        90.89343574,  79.155354  ,  78.23813955,  75.09282821,\n",
       "        78.55971133,  71.74387876,  61.23259722,  86.82868914,\n",
       "        91.64075447,  86.91768259,  91.56403406,  68.65529672,\n",
       "        63.2406474 ,  81.26024192,  76.46486448,  72.31374929,\n",
       "        87.70254642,  76.81223806,  82.82507007,  68.73663289,\n",
       "        69.19407157,  59.35230568,  56.87254484,  58.60722789,\n",
       "        84.49673853,  68.60473408,  87.84096838,  70.28880612,\n",
       "        78.37977812,  83.82035429,  74.29014855,  88.56929427,\n",
       "        85.11354069,  94.96030872,  63.93539332,  73.33343476,\n",
       "        94.06916845,  76.05741173,  85.21030741,  94.40942578,\n",
       "        67.15631156,  88.79674972,  75.31713026,  87.39392636,\n",
       "        60.30791175,  73.69373895,  77.51025668,  85.78716589,\n",
       "        85.8090644 ,  78.24831772,  82.9701361 ,  77.49166793,\n",
       "        79.08036869,  82.77590673,  87.10544855,  92.87175923,\n",
       "        80.90718741,  72.05752426,  93.45921456,  66.21923407,\n",
       "        78.76822327,  62.72044636,  91.85591777,  95.84638144,\n",
       "        82.98897045,  83.67968288,  85.10832334,  52.66569769,\n",
       "        53.94977047,  74.61195931,  96.2487904 ,  84.46217783,\n",
       "        87.04854574,  80.83254305,  70.67695792,  61.61028165,\n",
       "        79.72392839,  60.78477381,  63.04186282,  82.98130442,\n",
       "        54.04959899,  83.31334725,  66.60282588,  82.17184416,\n",
       "        72.90387955,  69.35046042,  74.89165422,  78.21781751,\n",
       "        68.02968123,  63.8419356 ,  67.54798621,  76.0233914 ,\n",
       "        71.27118757,  84.82844181,  63.10833335,  71.28265981,\n",
       "        80.3451065 ,  73.47400443,  87.43803498,  73.64237142,\n",
       "        85.39645462, 104.09801638,  84.8537392 ,  91.50212439,\n",
       "        91.47350177,  68.87307058,  61.45097797,  73.83207771,\n",
       "        53.6104298 ,  88.50757076,  67.90007773,  78.04308552,\n",
       "        82.34729283,  81.83600709,  75.47778456,  71.67606251,\n",
       "        78.12352739,  90.30294922,  96.85510958,  59.54692755,\n",
       "       101.16118862,  62.71896782,  78.55464025,  81.57036435,\n",
       "        71.31714794,  74.85327442,  78.89261834,  59.82662396,\n",
       "        90.23812059,  76.5771784 ,  84.7264908 ,  77.88774884,\n",
       "        91.50093925,  94.03454472,  82.92897134,  94.99215289,\n",
       "        72.79857405,  92.49077754, 100.28636788,  79.97213662,\n",
       "        91.66215126,  71.6746058 ,  64.48565047,  92.323737  ,\n",
       "        77.31096243,  64.82142489,  77.08349457,  74.96443036,\n",
       "        87.54786137,  81.36905754,  85.6672027 ,  68.96927872,\n",
       "        71.58315925,  79.06174999,  86.38205193,  80.44101547,\n",
       "        75.55664418,  62.45637063,  57.92054698, 101.42860196,\n",
       "        85.22355516,  58.56922712,  86.59052172,  90.20505322,\n",
       "        89.00972927,  84.32016926,  73.08167381,  69.00446833,\n",
       "        80.34587461,  96.11703586,  84.73701705,  67.57623565,\n",
       "        69.289843  ,  71.58063787,  63.6697546 ,  70.25958824,\n",
       "        69.25204164,  86.54896471,  75.74195152,  65.08285667,\n",
       "        88.64226605,  70.25590987, 102.62180555,  93.4303355 ,\n",
       "        93.93809555,  88.72338444,  71.40272507,  71.97590495,\n",
       "        75.72601168,  74.3924881 ,  66.64063058,  90.198235  ])"
      ]
     },
     "execution_count": 8,
     "metadata": {},
     "output_type": "execute_result"
    }
   ],
   "source": [
    "# your answer here\n",
    "\n",
    "data = stats.norm.rvs(loc=np.mean(w['Weight']),scale=np.std(w['Weight']),size=1000)"
   ]
  },
  {
   "cell_type": "markdown",
   "metadata": {},
   "source": [
    "**Now that all the requirements have been taken into account, compute the confidence interval of the average weight with a confidence level of 95%.**"
   ]
  },
  {
   "cell_type": "code",
   "execution_count": 20,
   "metadata": {},
   "outputs": [],
   "source": [
    "# your code here\n",
    "ci_l = np.mean(w['Weight'])-abs(stats.norm.ppf(.025))*np.std(w['Weight'])/np.sqrt(len(w['Weight']))"
   ]
  },
  {
   "cell_type": "code",
   "execution_count": 21,
   "metadata": {},
   "outputs": [],
   "source": [
    "# your code here\n",
    "ci_u = np.mean(w['Weight'])+abs(stats.norm.ppf(.025))*np.std(w['Weight'])/np.sqrt(len(w['Weight']))"
   ]
  },
  {
   "cell_type": "code",
   "execution_count": 22,
   "metadata": {},
   "outputs": [
    {
     "name": "stdout",
     "output_type": "stream",
     "text": [
      "CI at 95 percent is (77.176651,80.781096).\n"
     ]
    }
   ],
   "source": [
    "print('CI at 95 percent is (%f,%f).'% (ci_l, ci_u))"
   ]
  },
  {
   "cell_type": "markdown",
   "metadata": {},
   "source": [
    "**What can you say about these results?**"
   ]
  },
  {
   "cell_type": "code",
   "execution_count": 10,
   "metadata": {},
   "outputs": [],
   "source": [
    "#your-answer-here\n",
    "'''\n",
    "95 percent confident that most professional players weigh between 77.17kgs and 80.78kgs.\n",
    "'''"
   ]
  },
  {
   "cell_type": "markdown",
   "metadata": {},
   "source": [
    "**If your sister weighs 67kg what would you tell your grandmother in regards to her assumption?**"
   ]
  },
  {
   "cell_type": "code",
   "execution_count": 9,
   "metadata": {},
   "outputs": [],
   "source": [
    "#your-answer-here\n",
    "'''\n",
    "Grandma is right, seems like siser doesn't have a shot\n",
    "'''\n"
   ]
  },
  {
   "cell_type": "markdown",
   "metadata": {},
   "source": [
    "## Bonus: Can you plot the probability distribution of the average weight, indicating where the critical region is?"
   ]
  },
  {
   "cell_type": "code",
   "execution_count": 31,
   "metadata": {},
   "outputs": [
    {
     "data": {
      "text/plain": [
       "0.22743549527811527"
      ]
     },
     "execution_count": 31,
     "metadata": {},
     "output_type": "execute_result"
    }
   ],
   "source": [
    "pval"
   ]
  },
  {
   "cell_type": "code",
   "execution_count": 42,
   "metadata": {},
   "outputs": [
    {
     "data": {
      "text/plain": [
       "<matplotlib.axes._subplots.AxesSubplot at 0x1d5657c0790>"
      ]
     },
     "execution_count": 42,
     "metadata": {},
     "output_type": "execute_result"
    },
    {
     "data": {
      "image/png": "[encoded data removed]",
      "text/plain": [
       "<Figure size 432x288 with 1 Axes>"
      ]
     },
     "metadata": {
      "needs_background": "light"
     },
     "output_type": "display_data"
    }
   ],
   "source": [
    "# your code here\n",
    "import seaborn as sns\n",
    "%matplotlib inline\n",
    "pval = ttest_1samp(data,np.mean(w['Weight']))[1]\n",
    "sns.distplot(w['Weight'])\n",
    "sns.barplot(stats.norm.cdf(pval))"
   ]
  },
  {
   "cell_type": "markdown",
   "metadata": {},
   "source": [
    "# Question 2: Do female professional basketball players fail the majority of their free throws?\n",
    "\n",
    "You do not agree with your sister when she says that most female players fail their free throws. You decide to try and estimate the percentage of players that fail more than 40% of their free throws using, you guessed it, the WNBA sample.\n",
    "\n",
    "**How would you do it? Try and think about the requirements that your sample must satisfy in order to be used to infer the proportion of players that miss more than 40% of their free throws. Do you feel it actually fulfills those requirements? Do you need to make any assumptions?**"
   ]
  },
  {
   "cell_type": "code",
   "execution_count": 49,
   "metadata": {},
   "outputs": [
    {
     "data": {
      "text/plain": [
       "count    140.000000\n",
       "mean      23.906429\n",
       "std       16.232711\n",
       "min        0.000000\n",
       "25%        0.000000\n",
       "50%       30.200000\n",
       "75%       35.500000\n",
       "max       50.000000\n",
       "Name: 3P%, dtype: float64"
      ]
     },
     "execution_count": 49,
     "metadata": {},
     "output_type": "execute_result"
    }
   ],
   "source": [
    "# your answer here\n",
    "p_fail = w[w['3P%']<=60]\n",
    "p_fail['3P%'].describe()"
   ]
  },
  {
   "cell_type": "code",
   "execution_count": 57,
   "metadata": {},
   "outputs": [],
   "source": [
    "pval3 = ttest_1samp(p_fail['3P%'],np.mean(p_fail['3P%']))[1]"
   ]
  },
  {
   "cell_type": "markdown",
   "metadata": {},
   "source": [
    "**Now that all the requirements have been taken into account, compute the confidence interval of the proportion with a confidence level of 95%:**"
   ]
  },
  {
   "cell_type": "code",
   "execution_count": 52,
   "metadata": {},
   "outputs": [
    {
     "name": "stdout",
     "output_type": "stream",
     "text": [
      "CI at 95 percent is (21.227146,26.585711).\n"
     ]
    }
   ],
   "source": [
    "# your code here\n",
    "ci3_l = np.mean(p_fail['3P%'])-abs(stats.norm.ppf(.025))*np.std(p_fail['3P%'])/np.sqrt(len(p_fail['3P%']))\n",
    "ci3_u = np.mean(p_fail['3P%'])+abs(stats.norm.ppf(.025))*np.std(p_fail['3P%'])/np.sqrt(len(p_fail['3P%']))\n",
    "print('CI at 95 percent is (%f,%f).'% (ci3_l, ci3_u))"
   ]
  },
  {
   "cell_type": "markdown",
   "metadata": {},
   "source": [
    "**What can you comment about our result? What would you tell your sister?**"
   ]
  },
  {
   "cell_type": "code",
   "execution_count": 15,
   "metadata": {},
   "outputs": [],
   "source": [
    "#your-answer-here\n",
    "'''\n",
    "95 percent confident that most professional players score 3 points at success rate from 21.22% to 26.58%\n",
    "'''"
   ]
  },
  {
   "cell_type": "markdown",
   "metadata": {},
   "source": [
    "# Bonus: Can you plot the probability distribution of the proportion of missed free throws, indicating where the critical region is?"
   ]
  },
  {
   "cell_type": "code",
   "execution_count": 71,
   "metadata": {},
   "outputs": [
    {
     "name": "stderr",
     "output_type": "stream",
     "text": [
      "C:\\Users\\sfy\\AppData\\Roaming\\Python\\Python38\\site-packages\\seaborn\\distributions.py:288: UserWarning: Data must have variance to compute a kernel density estimate.\n",
      "  warnings.warn(msg, UserWarning)\n"
     ]
    },
    {
     "data": {
      "text/plain": [
       "<matplotlib.axes._subplots.AxesSubplot at 0x1d566ff4f70>"
      ]
     },
     "execution_count": 71,
     "metadata": {},
     "output_type": "execute_result"
    },
    {
     "data": {
      "image/png": "[encoded data removed]",
      "text/plain": [
       "<Figure size 432x288 with 1 Axes>"
      ]
     },
     "metadata": {
      "needs_background": "light"
     },
     "output_type": "display_data"
    }
   ],
   "source": [
    "#your code here\n",
    "\n",
    "sns.distplot(p_fail['3P%'])\n",
    "sns.distplot(stats.norm.cdf(1-pval3))"
   ]
  },
  {
   "cell_type": "markdown",
   "metadata": {},
   "source": [
    "# Question 3: Is the average number of assists for WNBA players only higher than the average for WNBA and NBA players together?"
   ]
  },
  {
   "cell_type": "markdown",
   "metadata": {},
   "source": [
    "Your brother-in-law is convinced that the average assists for female professional players is higher than the average of both female and male players combined (which is 52 for the 2016-2017 season). You would like to actually prove if this is true or not but you remember your stats teacher saying \"you can't *prove* anything, you just can say that *you are not* saying foolishness\".\n",
    "\n",
    "**How would you do it? Try and think about the requirements that your sample must satisfy in order to do that. Do you feel it actually fulfills those requirements? Do you need to make any assumptions?**"
   ]
  },
  {
   "cell_type": "code",
   "execution_count": 16,
   "metadata": {},
   "outputs": [],
   "source": [
    "#your-answer-here\n",
    "'''\n",
    "Ho = mean(wnba_ast)>52\n",
    "Ha = mean(wnba_ast)!>52\n",
    "'''"
   ]
  },
  {
   "cell_type": "markdown",
   "metadata": {},
   "source": [
    "**Use a two-tailed one-sample t-test to see if we can reject (or not) the null hypothesis with a 95% confidence level.**"
   ]
  },
  {
   "cell_type": "code",
   "execution_count": 74,
   "metadata": {},
   "outputs": [
    {
     "data": {
      "text/plain": [
       "0.033261541354107166"
      ]
     },
     "execution_count": 74,
     "metadata": {},
     "output_type": "execute_result"
    }
   ],
   "source": [
    "#your code here\n",
    "pvala = ttest_1samp(w['AST'],52)[1]\n",
    "pvala"
   ]
  },
  {
   "cell_type": "code",
   "execution_count": 75,
   "metadata": {},
   "outputs": [
    {
     "name": "stdout",
     "output_type": "stream",
     "text": [
      "P-value is: 0.033262.\n",
      "Reject Ho. 95% confident that wnba assists are not higher than 52.\n"
     ]
    }
   ],
   "source": [
    "#your-answer-here\n",
    "print('P-value is: %f.' % pvala)\n",
    "if pvala < .05:\n",
    "    print('Reject Ho. 95% confident that wnba assists are not higher than 52.')\n",
    "elif .05 <= pvala < .1:\n",
    "    print('Not confident that wnba assists are not higher than 52.')\n",
    "else:\n",
    "    print('Fail to reject.wnba assists are higher than 52.')"
   ]
  },
  {
   "cell_type": "markdown",
   "metadata": {},
   "source": [
    "**Now use a one-tailed one-sample t-test to see if we can reject (or not) the null hypothesis with a 95% confidence level.**"
   ]
  },
  {
   "cell_type": "code",
   "execution_count": 76,
   "metadata": {},
   "outputs": [
    {
     "name": "stdout",
     "output_type": "stream",
     "text": [
      "Reject Ho. 95% confident that wnba assists are not higher than 52.\n"
     ]
    }
   ],
   "source": [
    "#your-answer-here\n",
    "if pvala/2 < .05:\n",
    "    print('Reject Ho. 95% confident that wnba assists are not higher than 52.')\n",
    "elif .05 <= pvala/2 < .1:\n",
    "    print('Not confident that wnba assists are not higher than 52.')\n",
    "else:\n",
    "    print('Fail to reject.wnba assists are higher than 52.')"
   ]
  },
  {
   "cell_type": "markdown",
   "metadata": {},
   "source": [
    "# Bonus: Can you plot the resulting t-distribution of both tests? Indicate where the is the critical region and where does your statistic fall.**"
   ]
  },
  {
   "cell_type": "code",
   "execution_count": 90,
   "metadata": {},
   "outputs": [
    {
     "name": "stderr",
     "output_type": "stream",
     "text": [
      "C:\\Users\\sfy\\AppData\\Roaming\\Python\\Python38\\site-packages\\seaborn\\distributions.py:288: UserWarning: Data must have variance to compute a kernel density estimate.\n",
      "  warnings.warn(msg, UserWarning)\n"
     ]
    },
    {
     "data": {
      "text/plain": [
       "<matplotlib.axes._subplots.AxesSubplot at 0x1d5683d4ca0>"
      ]
     },
     "execution_count": 90,
     "metadata": {},
     "output_type": "execute_result"
    },
    {
     "data": {
      "image/png": "[encoded data removed]",
      "text/plain": [
       "<Figure size 432x288 with 1 Axes>"
      ]
     },
     "metadata": {
      "needs_background": "light"
     },
     "output_type": "display_data"
    }
   ],
   "source": [
    "#your code here\n",
    "sns.distplot(w['AST'])\n",
    "sns.distplot(stats.norm.cdf(pvala))\n",
    "# sns.distplot(stats.norm(np.mean(w['AST']),np.std(w['AST'])).cdf(pvala))"
   ]
  },
  {
   "cell_type": "markdown",
   "metadata": {},
   "source": [
    "# Bonus: Satisfying your curiosity\n",
    "\n",
    "You finally managed to solve your family's debates over basketball! While you were doing that you started to take an interest in the normal distribution.\n",
    "\n",
    "You read that the normal distribution is present in a lot of natural phenomenons, like blood pressure, IQ, weight and height. If, for example, we could plot the distribution of the weights of every human on the planet right now it would have the shape of a normal distribution.\n",
    "\n",
    "In light of this you would like to see if it's possible to check if the distribution of the weights of the WNBA players is a sample distribution that comes from a population that has a normal distribution, because theoretically this should be the case.\n",
    "\n",
    "**How would you try to demonstrate that our sample fits a normal distribution? What kind of test would you use? Would you have to make any assumptions?**"
   ]
  },
  {
   "cell_type": "code",
   "execution_count": 22,
   "metadata": {},
   "outputs": [],
   "source": [
    "#your-answer-here"
   ]
  },
  {
   "cell_type": "code",
   "execution_count": 102,
   "metadata": {},
   "outputs": [
    {
     "data": {
      "text/plain": [
       "<matplotlib.axes._subplots.AxesSubplot at 0x1d5695d5a30>"
      ]
     },
     "execution_count": 102,
     "metadata": {},
     "output_type": "execute_result"
    },
    {
     "data": {
      "image/png": "[encoded data removed]",
      "text/plain": [
       "<Figure size 432x288 with 1 Axes>"
      ]
     },
     "metadata": {
      "needs_background": "light"
     },
     "output_type": "display_data"
    }
   ],
   "source": [
    "# your code here\n",
    "data1 = stats.norm.rvs(np.mean(w['Weight']), np.std(w['Weight']), size=1000)\n",
    "\n",
    "\n",
    "sns.distplot(data1)"
   ]
  },
  {
   "cell_type": "markdown",
   "metadata": {},
   "source": [
    "**What are your comments in regards to the results of the test?**"
   ]
  },
  {
   "cell_type": "code",
   "execution_count": 24,
   "metadata": {},
   "outputs": [],
   "source": [
    "#your-answer-here\n",
    "\n",
    "'''\n",
    "Weight of wnba players fit into a normal distribution\n",
    "'''"
   ]
  }
 ],
 "metadata": {
  "kernelspec": {
   "display_name": "Python 3",
   "language": "python",
   "name": "python3"
  },
  "language_info": {
   "codemirror_mode": {
    "name": "ipython",
    "version": 3
   },
   "file_extension": ".py",
   "mimetype": "text/x-python",
   "name": "python",
   "nbconvert_exporter": "python",
   "pygments_lexer": "ipython3",
   "version": "3.8.1"
  }
 },
 "nbformat": 4,
 "nbformat_minor": 2
}

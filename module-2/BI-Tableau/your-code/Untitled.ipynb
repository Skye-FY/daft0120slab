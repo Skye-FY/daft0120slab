{
 "cells": [
  {
   "cell_type": "markdown",
   "metadata": {},
   "source": [
    "\n",
    "8. Instead of using line charts to visualize pricing for different demongraphics vs services separately, we can also visualize both demographics *and* services at the same time using *highlight table*.\n",
    "    - Create a highlight table to visualize Average Monthly Charges by Internet Service and Multiple Lines (rows) and Gender and Senior Citizen (columns).\n",
    "    - Display row and column grand totals.\n",
    "    - From this perspective, we can see that the prices for the different combination of core services do not differ significantly across demographic features.\n",
    "    \n",
    "    \n",
    "    \n",
    "9. Let's use the highlight table to visualize with percentages instead of totals.\n",
    "    1. Create a new highlight table to visualize Internet Service (row) agains Senior Citizen (column) on the Number of Records.\n",
    "    1. Display the Grant Total for both rows and columns.\n",
    "    1. Select Analysis > Percentage Of > Column in the menu. This displays the percentage instead of totals.\n",
    "    1. Your visualization should look like:\n",
    "\n",
    "        ![Senior vs Internet Service](senior-vs-internet-service.png)\n",
    "\n",
    "    - From this visualization, we can see that the proportion of customers that have fiber optic internet (the highest price service) is higher among seniors than it is among non-seniors. This is likely the cause for the price difference among those two groups. Seniors indeed tend to sign up for more expensive services.\n",
    "    \n",
    "    \n",
    "    \n",
    "10. The final perspective we will analyze this data set from is the number of customers that churn by demographic and service combination.\n",
    "    - Create another duplicate of the highlight table visualization showing pricing by demographics and services.\n",
    "    - Create a calculated field called Churned by going to *Analysis > Create Calculated Field* and entering the following formula: `IF [Churn]='Yes' THEN 1 ELSE 0 END`.\n",
    "    - Drag and drop the newly-created Churned measure to replace Monthly Charges wherever it appears in the Marks section.\n",
    "    - By default, Tableau will sum the measure which will show us the number of customers that churned in each segment. This is useful, but what we really want to see is the percentage of customers that churned. To see this, click on the drop-down next to the dimension wherever it appears in the Marks section, select *Measure*, and change the value to *Average*.\n",
    "    - We can see that the churn rates are higher for fiber optic internet across the board than for any other service. We know that fiber is also the highest priced, so perhaps customers aren't happy paying such high prices.\n",
    "    \n",
    "    \n",
    "    \n",
    "11. Next, we are going to combine all the visualizations we used to explore the data into a Tableau Story.\n",
    "    - Create a new Story by clicking on *Story > New Story*).\n",
    "    - Our story should document our journey throughout this lab, so you should create a Story Point for each visualization we have created. You can create a new Story Point by clicking on the *Blank* button under the *New Story Point* heading in the left pane of the workbook.\n",
    "    - Drag and drop each visualization into a new Story Point.\n",
    "    - Add a caption for each Story Point that briefly describes the chart. For example, the first one can be captioned *Customer Demographics*, the second one can be captioned *Customers by Service*, etc.\n",
    "    - Add an annotation to each Story Point describing the insights derived from the visualization. If you're having trouble with what to write, you can copy and paste the insights we have \n",
    "\n",
    "- [Change the Type of Mark in the View](https://onlinehelp.tableau.com/current/pro/desktop/en-us/viewparts_marks_marktypes.htm)"
   ]
  }
 ],
 "metadata": {
  "kernelspec": {
   "display_name": "Python 3",
   "language": "python",
   "name": "python3"
  },
  "language_info": {
   "codemirror_mode": {
    "name": "ipython",
    "version": 3
   },
   "file_extension": ".py",
   "mimetype": "text/x-python",
   "name": "python",
   "nbconvert_exporter": "python",
   "pygments_lexer": "ipython3",
   "version": "3.8.1"
  }
 },
 "nbformat": 4,
 "nbformat_minor": 4
}

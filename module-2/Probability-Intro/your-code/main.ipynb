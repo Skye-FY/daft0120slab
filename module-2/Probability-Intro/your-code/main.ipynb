{
 "cells": [
  {
   "cell_type": "markdown",
   "metadata": {},
   "source": [
    "# Introduction To Probability\n",
    "## Challenge 1\n",
    "\n",
    "A and B are events of a probability space with $(\\omega, \\sigma, P)$ such that $P(A) = 0.3$, $P(B) = 0.6$ and $P(A \\cap B) = 0.1$\n",
    "\n",
    "Which of the following statements are false?\n",
    "* $P(A \\cup B) = 0.6$\n",
    "* $P(A \\cap B^{C}) = 0.2$\n",
    "* $P(A \\cap (B \\cup B^{C})) = 0.4$\n",
    "* $P(A^{C} \\cap B^{C}) = 0.3$\n",
    "* $P((A \\cap B)^{C}) = 0.9$"
   ]
  },
  {
   "cell_type": "code",
   "execution_count": null,
   "metadata": {},
   "outputs": [],
   "source": [
    "\"\"\"\n",
    "your solution here\n",
    "𝑃(𝐴∪𝐵)=0.6 X False; 𝑃(𝐴∪𝐵)=0.8\n",
    "𝑃(𝐴∩𝐵𝐶)=0.2 X True\n",
    "𝑃(𝐴∩(𝐵∪𝐵𝐶))=0.4 X False; 𝑃(𝐴∩(𝐵∪𝐵𝐶))=𝑃(𝐴)=0.3\n",
    "𝑃(𝐴𝐶∩𝐵𝐶)=0.3 X 𝑃(𝐴𝐶∩𝐵𝐶)=0.1\n",
    "𝑃((𝐴∩𝐵)𝐶)=0.9 X True\n",
    "\n",
    "\"\"\""
   ]
  },
  {
   "cell_type": "markdown",
   "metadata": {},
   "source": [
    "## Challenge 2\n",
    "There is a box with 10 white balls, 12 red balls and 8 black balls. Calculate the probability of:\n",
    "* Taking a white ball out.\n",
    "* Taking a white ball out after taking a black ball out.\n",
    "* Taking a red ball out after taking a black and a red ball out.\n",
    "* Taking a red ball out after taking a black and a red ball out with reposition.\n",
    "\n",
    "**Hint**: Reposition means putting back the ball into the box after taking it out."
   ]
  },
  {
   "cell_type": "code",
   "execution_count": null,
   "metadata": {},
   "outputs": [],
   "source": [
    "\"\"\"\n",
    "your solution here\n",
    "box_balls = {'w': 10, 'r': 12, 'b': 8}\n",
    "P(w) = .333| 1/3 | 10/30\n",
    "P(r) = .4  | 2/5 | 12/30\n",
    "P(b) = .267| 4/15| 8/30\n",
    "\n",
    "P(w) = .333| 1/3 | 10/30\n",
    "P(w|b) = 8/30*10/29 = 8/87 = .0919\n",
    "P(r|(b∩r)) 8/30*12/30*11/28 = 96*11/900/28 = .0419\n",
    "P(r) = .4\n",
    "\n",
    "\"\"\""
   ]
  },
  {
   "cell_type": "markdown",
   "metadata": {},
   "source": [
    "## Challenge 3\n",
    "\n",
    "You are planning to go on a picnic today but the morning is cloudy. You hate rain so you don't know whether to go out or stay home! To help you make a decision, you gather the following data about rainy days:\n",
    "\n",
    "* 50% of all rainy days start off cloudy!\n",
    "* Cloudy mornings are common. About 40% of days start cloudy. \n",
    "* This month is usually dry so only 3 of 30 days (10%) tend to be rainy. \n",
    "\n",
    "What is the chance of rain during the day?"
   ]
  },
  {
   "cell_type": "code",
   "execution_count": null,
   "metadata": {},
   "outputs": [],
   "source": [
    "\"\"\"\n",
    "your solution here\n",
    "\n",
    "P(cloud|rain) = .5\n",
    "P(cloudy) = .4\n",
    "P(rain this month) = .1\n",
    "\n",
    "P(rain|cloudy) = .1*.5/.4 = .125\n",
    "\n",
    "\"\"\""
   ]
  },
  {
   "cell_type": "markdown",
   "metadata": {},
   "source": [
    "## Challenge 4\n",
    "\n",
    "One thousand people were asked through a telephone survey whether they thought more street lighting is needed at night or not.\n",
    "\n",
    "Out of the 480 men that answered the survey, 324 said yes and 156 said no. On the other hand, out of the 520 women that answered, 351 said yes and 169 said no. \n",
    "\n",
    "We wonder if men and women have a different opinions about the street lighting matter. Is gender relevant or irrelevant to the question?\n",
    "\n",
    "Consider the following events:\n",
    "- The answer is yes, so the person that answered thinks that more street lighting is needed.\n",
    "- The person who answered is a man.\n",
    "\n",
    "We want to know if these events are independent, that is, if the fact of wanting more light depends on whether one is male or female. Are these events independent or not?\n",
    "\n",
    "**Hint**: To clearly compare the answers by gender, it is best to place the data in a table."
   ]
  },
  {
   "cell_type": "code",
   "execution_count": 43,
   "metadata": {},
   "outputs": [
    {
     "name": "stdout",
     "output_type": "stream",
     "text": [
      "The fact of wanting more light does not depend on whether one is male or female; these events are independent.\n"
     ]
    }
   ],
   "source": [
    "# your code here\n",
    "\n",
    "\n",
    "survey = {'men': {'yes':324, \n",
    "                   'no': 156},\n",
    "           'women':{'yes':351,\n",
    "                   'no':169}}\n",
    "\n",
    "import pandas as pd\n",
    "df_survey = pd.DataFrame(survery)\n",
    "df_survey\n",
    "\n",
    "p_yes = df_survey.loc['yes'].sum()/df_survey.sum().sum()\n",
    "p_men_yes = df_survey.loc['yes', 'men']/df_survey.loc[:,['men']].sum()[0]\n",
    "p_women_yes = df_survey.loc['yes', 'women']/df_survey.loc[:,['women']].sum()[0]\n",
    "\n",
    "if p_men_yes == p_women_yes == p_yes:\n",
    "    print('The fact of wanting more light does not depend on whether one is male or female; these events are independent.')\n",
    "else:\n",
    "    print('The fact of wanting more light depends on whether one is male or female; these events are not independent.')\n"
   ]
  },
  {
   "cell_type": "code",
   "execution_count": null,
   "metadata": {},
   "outputs": [],
   "source": [
    "\"\"\"\n",
    "your solution here\n",
    "s = 1000\n",
    "P(light yes|men) = 324/480 = .675\n",
    "P(light no|men) = 156/480 = .325\n",
    "P(light yes|women) = 351/520 = .675\n",
    "P(light no|women) = 169/520 = .325\n",
    "P(light yes) = .675\n",
    "P(light no) = .325\n",
    "P(light yes|men) = P(light yes)\n",
    "P(light yes|women) = P(light yes) = .675\n",
    "the fact of wanting more light does not depend on whether one is male or female;\n",
    "these events are independent\n",
    "\"\"\""
   ]
  },
  {
   "cell_type": "code",
   "execution_count": null,
   "metadata": {},
   "outputs": [],
   "source": []
  }
 ],
 "metadata": {
  "kernelspec": {
   "display_name": "Python 3",
   "language": "python",
   "name": "python3"
  },
  "language_info": {
   "codemirror_mode": {
    "name": "ipython",
    "version": 3
   },
   "file_extension": ".py",
   "mimetype": "text/x-python",
   "name": "python",
   "nbconvert_exporter": "python",
   "pygments_lexer": "ipython3",
   "version": "3.8.1"
  }
 },
 "nbformat": 4,
 "nbformat_minor": 2
}

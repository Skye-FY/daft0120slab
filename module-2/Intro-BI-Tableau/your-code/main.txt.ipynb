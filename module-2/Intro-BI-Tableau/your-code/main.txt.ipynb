{
 "cells": [
  {
   "cell_type": "markdown",
   "metadata": {},
   "source": [
    "[Tableau website](https://www.tableau.com/learn/training). We have also referenced specific articles on topics such as binning \n",
    "\n",
    "\n",
    "\n",
    "9. Save your work to Tableau Public, ensure that your workbook is viewable, and copy the URL for the workbook into the deliverables file for this lab. It might take several minutes for this workbook to save to Tableau Public due to the number of records in the data set.\n",
    "\n",
    "## Deliverables\n",
    "\n",
    "- `main.txt` file with a link to your Tableau Public workbook.\n",
    "\n",
    "## Submission\n",
    "\n",
    "Upon completion, add your deliverables to git. Then commit git and push your branch to the remote.\n",
    "\n",
    "## Resources\n",
    "\n",
    "- [Google Sheets - Tableau](https://onlinehelp.tableau.com/current/pro/desktop/en-us/examples_googlesheets.htm)\n",
    "\n",
    "- [Data Types - Tableau](https://onlinehelp.tableau.com/current/pro/desktop/en-us/datafields_typesandroles_datatypes.htm)\n",
    "\n",
    "- [Create Bins from a Continuous Measure](https://onlinehelp.tableau.com/current/pro/desktop/en-us/calculations_bins.htm)\n",
    "\n",
    "- [Create Aliases to Rename Members in the View](https://onlinehelp.tableau.com/current/pro/desktop/en-us/datafields_fieldproperties_aliases_ex1editing.htm)\n",
    "\n",
    "- [Tableau Training Videos](https://www.tableau.com/learn/training)"
   ]
  }
 ],
 "metadata": {
  "kernelspec": {
   "display_name": "Python 3",
   "language": "python",
   "name": "python3"
  },
  "language_info": {
   "codemirror_mode": {
    "name": "ipython",
    "version": 3
   },
   "file_extension": ".py",
   "mimetype": "text/x-python",
   "name": "python",
   "nbconvert_exporter": "python",
   "pygments_lexer": "ipython3",
   "version": "3.8.1"
  }
 },
 "nbformat": 4,
 "nbformat_minor": 4
}

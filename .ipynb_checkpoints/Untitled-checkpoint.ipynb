{
 "cells": [
  {
   "cell_type": "code",
   "execution_count": 6,
   "metadata": {},
   "outputs": [
    {
     "name": "stdout",
     "output_type": "stream",
     "text": [
      "Enter minimum string length: 7\n",
      "Enter maximum string length: 3\n",
      "How many random strings to generate? 2\n",
      "Invalid input.\n",
      "Try again.\n",
      "[]\n",
      "None\n"
     ]
    }
   ],
   "source": [
    "def randomStringGenerator(max_len):\n",
    "    import string\n",
    "    alpha = list(string.ascii_lowercase)\n",
    "    nums = [str(i) for i in list(range(10))]\n",
    "    pool = alpha + nums\n",
    "    strlens = 0\n",
    "    _string = str()\n",
    "    while strlens <max_len:\n",
    "        import random\n",
    "        _string += random.choice(pool)\n",
    "        strlens += 1\n",
    "    return _string\n",
    "\n",
    "def batchStringGenerator(str_cnt, min_len, max_len):\n",
    "    str_batch = []\n",
    "    while len(str_batch) < len(range(str_cnt)):\n",
    "        strlen = None\n",
    "        if min_len < max_len:\n",
    "            import random\n",
    "            strlen = random.choice(range(min_len, max_len))\n",
    "        elif max_len == min_len:\n",
    "            strlen = min_len\n",
    "        else:\n",
    "            print('Invalid input.\\nTry again.')\n",
    "            break\n",
    "        str_batch.append(randomStringGenerator(strlen))            \n",
    "    return print(str_batch)\n",
    "\n",
    "# if __name__ == '__main__':\n",
    "#     _min_len = int(input('Enter minimum string length: '))\n",
    "#     _max_len = int(input('Enter maximum string length: '))\n",
    "#     _str_cnt = int(input('How many random strings to generate? '))\n",
    "#     batchStringGenerator(_str_cnt, _min_len, _max_len)\n",
    "_min_len = int(input('Enter minimum string length: '))\n",
    "_max_len = int(input('Enter maximum string length: '))\n",
    "_str_cnt = int(input('How many random strings to generate? '))\n",
    "print(batchStringGenerator(_str_cnt, _min_len, _max_len))"
   ]
  },
  {
   "cell_type": "code",
   "execution_count": null,
   "metadata": {},
   "outputs": [],
   "source": []
  },
  {
   "cell_type": "code",
   "execution_count": null,
   "metadata": {},
   "outputs": [],
   "source": []
  },
  {
   "cell_type": "code",
   "execution_count": 2,
   "metadata": {},
   "outputs": [
    {
     "data": {
      "text/plain": [
       "['a',\n",
       " 'b',\n",
       " 'c',\n",
       " 'd',\n",
       " 'e',\n",
       " 'f',\n",
       " 'g',\n",
       " 'h',\n",
       " 'i',\n",
       " 'j',\n",
       " 'k',\n",
       " 'l',\n",
       " 'm',\n",
       " 'n',\n",
       " 'o',\n",
       " 'p',\n",
       " 'q',\n",
       " 'r',\n",
       " 's',\n",
       " 't',\n",
       " 'u',\n",
       " 'v',\n",
       " 'w',\n",
       " 'x',\n",
       " 'y',\n",
       " 'z',\n",
       " '0',\n",
       " '1',\n",
       " '2',\n",
       " '3',\n",
       " '4',\n",
       " '5',\n",
       " '6',\n",
       " '7',\n",
       " '8',\n",
       " '9']"
      ]
     },
     "execution_count": 2,
     "metadata": {},
     "output_type": "execute_result"
    }
   ],
   "source": [
    "import string\n",
    "alpha = list(string.ascii_lowercase)\n",
    "nums = [str(i) for i in list(range(10))]\n",
    "pool = alpha + nums\n",
    "pool"
   ]
  },
  {
   "cell_type": "code",
   "execution_count": null,
   "metadata": {},
   "outputs": [],
   "source": []
  }
 ],
 "metadata": {
  "kernelspec": {
   "display_name": "Python 3",
   "language": "python",
   "name": "python3"
  },
  "language_info": {
   "codemirror_mode": {
    "name": "ipython",
    "version": 3
   },
   "file_extension": ".py",
   "mimetype": "text/x-python",
   "name": "python",
   "nbconvert_exporter": "python",
   "pygments_lexer": "ipython3",
   "version": "3.8.1"
  }
 },
 "nbformat": 4,
 "nbformat_minor": 4
}

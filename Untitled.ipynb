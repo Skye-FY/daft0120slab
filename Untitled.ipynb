{
 "cells": [
  {
   "cell_type": "code",
   "execution_count": 28,
   "metadata": {},
   "outputs": [],
   "source": [
    "def max_rtri_side(num):\n",
    "    import math as m\n",
    "    _range = [i for i in range(3,num+1)]\n",
    "    t =  for a,b,c in _range]\n",
    "    max_side = max(t)\n",
    "    return max_side\n"
   ]
  },
  {
   "cell_type": "code",
   "execution_count": 59,
   "metadata": {},
   "outputs": [],
   "source": [
    "def compute_side(num):\n",
    "    max_combo = max([(a,b,c) for c in range(5, num+1) for b in range(4, num+1) for a in range(3, num+1) if (a**2 + b**2 == c**2)])\n",
    "    \n",
    "    return max_combo[2]\n",
    "\n",
    "if __name__ in '__main__':\n",
    "    x = int(input('What is the maximal length of the side of a right triangle? Enter a number: '))\n",
    "    compute_side(x)\n",
    "    print('The longest side possible given')\n",
    "\n",
    "# print(\"The longest side possible is \" + str(my_function(int(X))))\n",
    "')"
   ]
  },
  {
   "cell_type": "code",
   "execution_count": 60,
   "metadata": {},
   "outputs": [
    {
     "data": {
      "text/plain": [
       "15"
      ]
     },
     "execution_count": 60,
     "metadata": {},
     "output_type": "execute_result"
    }
   ],
   "source": [
    "compute_side(15)"
   ]
  },
  {
   "cell_type": "code",
   "execution_count": 52,
   "metadata": {},
   "outputs": [
    {
     "data": {
      "text/plain": [
       "(12, 9, 15)"
      ]
     },
     "execution_count": 52,
     "metadata": {},
     "output_type": "execute_result"
    }
   ],
   "source": [
    "def max_rtri_side(num):\n",
    "    max_side = max([(a,b,c) for a in range(3, num+1) for b in range(4, num+1) for c in range(5, num+1) if (a**2 + b**2 == c**2)])\n",
    "    return max_side\n",
    "max_rtri_side(15)"
   ]
  },
  {
   "cell_type": "code",
   "execution_count": 51,
   "metadata": {},
   "outputs": [
    {
     "data": {
      "text/plain": [
       "225"
      ]
     },
     "execution_count": 51,
     "metadata": {},
     "output_type": "execute_result"
    }
   ],
   "source": [
    "15*15\n",
    "144 81"
   ]
  },
  {
   "cell_type": "code",
   "execution_count": null,
   "metadata": {},
   "outputs": [],
   "source": []
  }
 ],
 "metadata": {
  "kernelspec": {
   "display_name": "Python 3",
   "language": "python",
   "name": "python3"
  },
  "language_info": {
   "codemirror_mode": {
    "name": "ipython",
    "version": 3
   },
   "file_extension": ".py",
   "mimetype": "text/x-python",
   "name": "python",
   "nbconvert_exporter": "python",
   "pygments_lexer": "ipython3",
   "version": "3.8.1"
  }
 },
 "nbformat": 4,
 "nbformat_minor": 4
}
